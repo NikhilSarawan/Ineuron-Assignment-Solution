{
 "cells": [
  {
   "cell_type": "code",
   "execution_count": null,
   "id": "d9af4197",
   "metadata": {},
   "outputs": [],
   "source": [
    "\n",
    "\n",
    "### Step 1: Import Libraries\n",
    "\n",
    "```python\n",
    "import numpy as np\n",
    "from tensorflow.keras.models import Sequential\n",
    "from tensorflow.keras.layers import Dense\n",
    "```\n",
    "\n",
    "### Step 2: Create the Dataset\n",
    "\n",
    "```python\n",
    "# Create a list of odd numbers as the dataset\n",
    "odd_numbers = [1, 3, 5, 7, 9, 11, 13, 15, 17, 19, 21, 23, 25, 27, 29]\n",
    "```\n",
    "\n",
    "### Step 3: Prepare Data for Training\n",
    "\n",
    "```python\n",
    "X = odd_numbers[:-1]  # Input sequence (all numbers except the last one)\n",
    "y = odd_numbers[1:]   # Target sequence (all numbers except the first one)\n",
    "\n",
    "X = np.array(X).reshape(-1, 1)  # Reshape X for model input\n",
    "y = np.array(y).reshape(-1, 1)  # Reshape y for model output\n",
    "```\n",
    "\n",
    "### Step 4: Build the Neural Network Model\n",
    "\n",
    "```python\n",
    "model = Sequential([\n",
    "    Dense(10, input_dim=1, activation='relu'),  # 1 input neuron, 10 neurons in the hidden layer\n",
    "    Dense(1)  # 1 output neuron for predicting the next digit\n",
    "])\n",
    "\n",
    "model.compile(loss='mean_squared_error', optimizer='adam')\n",
    "```\n",
    "\n",
    "### Step 5: Train the Model\n",
    "\n",
    "```python\n",
    "model.fit(X, y, epochs=1000, verbose=0)  # Training the model for 1000 epochs\n",
    "```\n",
    "\n",
    "### Step 6: Predict the Next Digit in the Sequence\n",
    "\n",
    "```python\n",
    "# Predict the next digit in the sequence\n",
    "next_digit = model.predict(np.array([[31]]))[0, 0]  # Predicting the next number after 29\n",
    "\n",
    "print(f'Predicted next digit in the sequence: {round(next_digit)}')\n",
    "```\n",
    "\n"
   ]
  }
 ],
 "metadata": {
  "kernelspec": {
   "display_name": "Python 3 (ipykernel)",
   "language": "python",
   "name": "python3"
  },
  "language_info": {
   "codemirror_mode": {
    "name": "ipython",
    "version": 3
   },
   "file_extension": ".py",
   "mimetype": "text/x-python",
   "name": "python",
   "nbconvert_exporter": "python",
   "pygments_lexer": "ipython3",
   "version": "3.10.9"
  }
 },
 "nbformat": 4,
 "nbformat_minor": 5
}
